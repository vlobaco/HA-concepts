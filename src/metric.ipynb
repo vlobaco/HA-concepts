{
 "cells": [
  {
   "cell_type": "markdown",
   "metadata": {},
   "source": [
    "# A distance for HA"
   ]
  },
  {
   "cell_type": "markdown",
   "metadata": {},
   "source": [
    "## 1. The Distance"
   ]
  },
  {
   "cell_type": "code",
   "execution_count": 27,
   "metadata": {},
   "outputs": [],
   "source": [
    "import numpy as np\n",
    "\n",
    "def distance(a, b):\n",
    "    dot_product = np.dot(a, b)\n",
    "    a_module = np.linalg.norm(a)\n",
    "    b_module = np.linalg.norm(b)\n",
    "    return 1 - dot_product/(a_module * b_module)"
   ]
  },
  {
   "cell_type": "code",
   "execution_count": 28,
   "metadata": {},
   "outputs": [
    {
     "name": "stdout",
     "output_type": "stream",
     "text": [
      "Distance: 0.07\n"
     ]
    }
   ],
   "source": [
    "a = [1, 2, 3]\n",
    "b = [1, 1, 1]\n",
    "d = distance(a, b)\n",
    "print(f\"Distance: {d:.2f}\")"
   ]
  },
  {
   "cell_type": "markdown",
   "metadata": {},
   "source": [
    "## 2. Assigning a Request"
   ]
  },
  {
   "cell_type": "code",
   "execution_count": 30,
   "metadata": {},
   "outputs": [],
   "source": [
    "def best_candidate(situation, weights):\n",
    "    number_of_components = len(situation)\n",
    "    options = [[\n",
    "                    situation[component_index] + (1 if component_index == option_index else 0) for component_index in range(number_of_components)\n",
    "                ] for option_index in range(number_of_components)]\n",
    "    distances = [distance(option, weights) for option in options]\n",
    "    best_candidate_index = int(np.argmin(distances))\n",
    "    best_candidate_distance = distances[best_candidate_index]\n",
    "    return best_candidate_index, best_candidate_distance"
   ]
  },
  {
   "cell_type": "code",
   "execution_count": 31,
   "metadata": {},
   "outputs": [
    {
     "name": "stdout",
     "output_type": "stream",
     "text": [
      "Best candidate index: 0\n",
      "Best candidate distance: 0.24\n"
     ]
    }
   ],
   "source": [
    "weights = [5, 4, 1, 1]\n",
    "situation = [0, 0, 0, 0]\n",
    "\n",
    "best_candidate_index, best_candidate_distance = best_candidate(situation, weights)\n",
    "print(f\"Best candidate index: {best_candidate_index}\")\n",
    "print(f\"Best candidate distance: {best_candidate_distance:.2f}\")"
   ]
  },
  {
   "cell_type": "markdown",
   "metadata": {},
   "source": [
    "## 3. Simulation"
   ]
  },
  {
   "cell_type": "code",
   "execution_count": null,
   "metadata": {},
   "outputs": [
    {
     "ename": "",
     "evalue": "",
     "output_type": "error",
     "traceback": [
      "\u001b[1;31mThe Kernel crashed while executing code in the current cell or a previous cell. \n",
      "\u001b[1;31mPlease review the code in the cell(s) to identify a possible cause of the failure. \n",
      "\u001b[1;31mClick <a href='https://aka.ms/vscodeJupyterKernelCrash'>here</a> for more info. \n",
      "\u001b[1;31mView Jupyter <a href='command:jupyter.viewOutput'>log</a> for further details."
     ]
    }
   ],
   "source": [
    "from matplotlib import use\n",
    "import matplotlib.pyplot as plt\n",
    "import matplotlib.animation as animation\n",
    "import random\n",
    "\n",
    "use('TkAgg')\n",
    "numbers_of_components = [5, 10, 20, 50, 100, 200, 500]\n",
    "weights = [[random.random() for _ in range(number_of_components)] for number_of_components in numbers_of_components]\n",
    "situations = [[0] * number_of_components for number_of_components in numbers_of_components]\n",
    "number_of_requests = 250\n",
    "back_to_beginning = \"\\r\"\n",
    "histories = [[] for _ in numbers_of_components]\n",
    "\n",
    "# Set up plot\n",
    "fig, ax = plt.subplots()\n",
    "lines = [ax.plot([], [], label=f\"{number_of_components} components\")[0] for number_of_components in numbers_of_components]\n",
    "\n",
    "# Set up plot parameters\n",
    "fig.suptitle(\"Distance to weights\")\n",
    "fig.legend()\n",
    "ax.set_xlabel(\"Requests\")\n",
    "ax.set_ylabel(\"Distance\")\n",
    "ax.set_xlim(0, number_of_requests)\n",
    "ax.set_ylim(0, 1)  # Adjust based on your data range\n",
    "ax.grid(True)\n",
    "\n",
    "def init():\n",
    "    for line in lines:\n",
    "        line.set_data([], [])\n",
    "    return lines\n",
    "\n",
    "def update(frame):\n",
    "    for situation, weight, history, line in zip(situations, weights, histories, lines):\n",
    "        best_candidate_index, best_candidate_distance = best_candidate(situation, weight)\n",
    "        situation[best_candidate_index] += 1\n",
    "        history.append(best_candidate_distance)\n",
    "        line.set_data(range(len(history)), history)\n",
    "    return lines\n",
    "\n",
    "# Start animation\n",
    "anim = animation.FuncAnimation(\n",
    "    fig, update, frames = number_of_requests,\n",
    "    interval=1, init_func=init, blit=True)\n",
    "\n",
    "plt.show()"
   ]
  }
 ],
 "metadata": {
  "kernelspec": {
   "display_name": ".venv",
   "language": "python",
   "name": "python3"
  },
  "language_info": {
   "codemirror_mode": {
    "name": "ipython",
    "version": 3
   },
   "file_extension": ".py",
   "mimetype": "text/x-python",
   "name": "python",
   "nbconvert_exporter": "python",
   "pygments_lexer": "ipython3",
   "version": "3.13.1"
  }
 },
 "nbformat": 4,
 "nbformat_minor": 2
}
